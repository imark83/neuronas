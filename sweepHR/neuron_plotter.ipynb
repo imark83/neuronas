{
 "metadata": {
  "name": ""
 },
 "nbformat": 3,
 "nbformat_minor": 0,
 "worksheets": [
  {
   "cells": [
    {
     "cell_type": "code",
     "collapsed": false,
     "input": [
      "import matplotlib.pyplot as plt\n",
      "import numpy as np"
     ],
     "language": "python",
     "metadata": {},
     "outputs": [],
     "prompt_number": 6
    },
    {
     "cell_type": "code",
     "collapsed": false,
     "input": [
      "def torify (T):\n",
      "    n=int(len(T[0])/3)\n",
      "    f21=[]\n",
      "    f31=[]\n",
      "    for data in T:\n",
      "        data = data.reshape(3,n)\n",
      "        P=data[0,1:]-data[0,:-1]\n",
      "        d21=data[1,:-1]-data[0,:-1]\n",
      "        d31=data[2,:-1]-data[0,:-1]\n",
      "        f21.append(d21/P)\n",
      "        f31.append(d31/P)\n",
      "    return f21,f31"
     ],
     "language": "python",
     "metadata": {},
     "outputs": [],
     "prompt_number": 2
    },
    {
     "cell_type": "code",
     "collapsed": false,
     "input": [
      "T=np.loadtxt(\"T015.txt\")"
     ],
     "language": "python",
     "metadata": {},
     "outputs": [],
     "prompt_number": 3
    },
    {
     "cell_type": "code",
     "collapsed": false,
     "input": [
      "f21,f31=torify(T)"
     ],
     "language": "python",
     "metadata": {},
     "outputs": [],
     "prompt_number": 4
    },
    {
     "cell_type": "code",
     "collapsed": false,
     "input": [
      "for (f,g) in zip(f21, f31):\n",
      "    plt.plot(f,g,color=(f[-1]%1,g[-1]%1,(2*f[-1]+g[-1])%1))\n",
      "plt.show()"
     ],
     "language": "python",
     "metadata": {},
     "outputs": [],
     "prompt_number": 5
    },
    {
     "cell_type": "code",
     "collapsed": false,
     "input": [
      "zip("
     ],
     "language": "python",
     "metadata": {},
     "outputs": []
    }
   ],
   "metadata": {}
  }
 ]
}