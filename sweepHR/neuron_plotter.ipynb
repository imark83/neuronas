{
 "metadata": {
  "name": ""
 },
 "nbformat": 3,
 "nbformat_minor": 0,
 "worksheets": [
  {
   "cells": [
    {
     "cell_type": "code",
     "collapsed": false,
     "input": [
      "import matplotlib.pyplot as plt\n",
      "import numpy as np\n",
      "import itertools"
     ],
     "language": "python",
     "metadata": {},
     "outputs": [],
     "prompt_number": 1
    },
    {
     "cell_type": "code",
     "collapsed": false,
     "input": [
      "def torify(T, tol=0.15):\n",
      "    n=len(T[0])//3\n",
      "    X1=T[:,:n]\n",
      "    X2=T[:,n:2*n]\n",
      "    X3=T[:,2*n:3*n]\n",
      "    P=X1[:,1:]-X1[:,:-1]\n",
      "    f21=(X2[:,:-1]-X1[:,:-1])/P\n",
      "    f31=(X3[:,:-1]-X1[:,:-1])/P\n",
      "    \n",
      "    # We compute the possible ends up to 2 decimal places\n",
      "    ends = set( zip(np.round(f21[:,-1],2), np.round(f31[:,-1],2)) )\n",
      "    \n",
      "    # assign colors\n",
      "    pallete = {}\n",
      "    last_color = 0\n",
      "    \n",
      "    for newcolor in ends:\n",
      "        is_it_new = True\n",
      "        for c,t in itertools.product( pallete, np.array([[0,0],[0.5,0],[0,0.5],[0.5,0.5]]) ):\n",
      "            if np.linalg.norm( (np.array(c)+t)%1 - (np.array(newcolor)+t)%1 ) < tol:\n",
      "                pallete[newcolor] = pallete[c]\n",
      "                is_it_new = False\n",
      "        if is_it_new:\n",
      "            pallete[newcolor] = last_color\n",
      "            last_color += 1\n",
      "        \n",
      "    \n",
      "    return f21,f31, list(map( lambda x: pallete[x]/(last_color-1), zip(np.round(f21[:,-1],2), np.round(f31[:,-1],2)) ))\n",
      "    "
     ],
     "language": "python",
     "metadata": {},
     "outputs": [],
     "prompt_number": 2
    },
    {
     "cell_type": "code",
     "collapsed": false,
     "input": [
      "T=np.loadtxt(\"T043.txt\")"
     ],
     "language": "python",
     "metadata": {},
     "outputs": [],
     "prompt_number": 5
    },
    {
     "cell_type": "code",
     "collapsed": false,
     "input": [
      "f21,f31,colors=torify(T)"
     ],
     "language": "python",
     "metadata": {},
     "outputs": [],
     "prompt_number": 6
    },
    {
     "cell_type": "code",
     "collapsed": false,
     "input": [
      "f21"
     ],
     "language": "python",
     "metadata": {},
     "outputs": [
      {
       "metadata": {},
       "output_type": "pyout",
       "prompt_number": 8,
       "text": [
        "array([[ 0.00897488,  0.00937044,  0.00981271, ...,  0.21319551,\n",
        "         0.21328828,  0.21311175],\n",
        "       [ 0.03412399,  0.03665131,  0.0396094 , ...,  0.66753335,\n",
        "         0.66880864,  0.6699318 ],\n",
        "       [ 0.05921325,  0.06961757,  0.08202279, ...,  0.66365841,\n",
        "         0.66489362,  0.66621802],\n",
        "       ..., \n",
        "       [ 0.93823638,  0.9308923 ,  0.92518066, ...,  0.39327231,\n",
        "         0.39327334,  0.3932356 ],\n",
        "       [ 0.96418281,  0.96199879,  0.95955812, ...,  0.39203978,\n",
        "         0.39198938,  0.39201465],\n",
        "       [ 0.98903185,  0.9884298 ,  0.98782352, ...,  0.40775508,\n",
        "         0.40775712,  0.40759093]])"
       ]
      }
     ],
     "prompt_number": 8
    },
    {
     "cell_type": "code",
     "collapsed": false,
     "input": [
      "for (f,g,c) in zip(f21, f31,colors):\n",
      "    plt.plot(f,g,color=plt.cm.jet(c))\n",
      "plt.plot (f21[:,-1],f31[:,-1],'o')\n",
      "plt.show()\n"
     ],
     "language": "python",
     "metadata": {},
     "outputs": [],
     "prompt_number": "*"
    },
    {
     "cell_type": "code",
     "collapsed": false,
     "input": [],
     "language": "python",
     "metadata": {},
     "outputs": []
    }
   ],
   "metadata": {}
  }
 ]
}