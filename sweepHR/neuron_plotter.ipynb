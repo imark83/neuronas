{
 "metadata": {
  "name": ""
 },
 "nbformat": 3,
 "nbformat_minor": 0,
 "worksheets": [
  {
   "cells": [
    {
     "cell_type": "code",
     "collapsed": false,
     "input": [
      "import matplotlib.pyplot as plt\n",
      "import numpy as np\n",
      "import itertools"
     ],
     "language": "python",
     "metadata": {},
     "outputs": [],
     "prompt_number": 1
    },
    {
     "cell_type": "code",
     "collapsed": false,
     "input": [
      "def torify(T, tol=0.15):\n",
      "    n=len(T[0])//3\n",
      "    X1=T[:,:n]\n",
      "    X2=T[:,n:2*n]\n",
      "    X3=T[:,2*n:3*n]\n",
      "    P=X1[:,1:]-X1[:,:-1]\n",
      "    f21=(X2[:,:-1]-X1[:,:-1])/P\n",
      "    f31=(X3[:,:-1]-X1[:,:-1])/P\n",
      "    \n",
      "    # We compute the possible ends up to 2 decimal places\n",
      "    ends = set( zip(np.round(f21[:,-1],2), np.round(f31[:,-1],2)) )\n",
      "    \n",
      "    # assign colors\n",
      "    pallete = {}\n",
      "    last_color = 0\n",
      "    \n",
      "    for newcolor in ends:\n",
      "        is_it_new = True\n",
      "        for c,t in itertools.product( pallete, np.array([[0,0],[0.5,0],[0,0.5],[0.5,0.5]]) ):\n",
      "            if np.linalg.norm( (np.array(c)+t)%1 - (np.array(newcolor)+t)%1 ) < tol:\n",
      "                pallete[newcolor] = pallete[c]\n",
      "                is_it_new = False\n",
      "        if is_it_new:\n",
      "            pallete[newcolor] = last_color\n",
      "            last_color += 1\n",
      "        \n",
      "    \n",
      "    return f21,f31, list(map( lambda x: pallete[x]/(last_color-1), zip(np.round(f21[:,-1],2), np.round(f31[:,-1],2)) ))\n",
      "    "
     ],
     "language": "python",
     "metadata": {},
     "outputs": [],
     "prompt_number": 2
    },
    {
     "cell_type": "code",
     "collapsed": false,
     "input": [
      "T=np.loadtxt(\"T008.txt\")"
     ],
     "language": "python",
     "metadata": {},
     "outputs": [],
     "prompt_number": 3
    },
    {
     "cell_type": "code",
     "collapsed": false,
     "input": [
      "f21,f31,colors=torify(T)"
     ],
     "language": "python",
     "metadata": {},
     "outputs": [],
     "prompt_number": "*"
    },
    {
     "cell_type": "code",
     "collapsed": false,
     "input": [
      "for (f,g,c) in zip(f21, f31,colors):\n",
      "    plt.plot(f,g,color=plt.cm.jet(c))\n",
      "plt.show()"
     ],
     "language": "python",
     "metadata": {},
     "outputs": [],
     "prompt_number": "*"
    },
    {
     "cell_type": "code",
     "collapsed": false,
     "input": [],
     "language": "python",
     "metadata": {},
     "outputs": []
    }
   ],
   "metadata": {}
  }
 ]
}